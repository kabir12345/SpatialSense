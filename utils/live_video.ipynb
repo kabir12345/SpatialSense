{
 "cells": [
  {
   "cell_type": "code",
   "execution_count": null,
   "metadata": {},
   "outputs": [],
   "source": [
    "# pip install urllib\n",
    "# pip install m3u8\n",
    "# pip install streamlink"
   ]
  },
  {
   "cell_type": "code",
   "execution_count": 2,
   "metadata": {},
   "outputs": [],
   "source": [
    "import time\n",
    "from datetime import datetime, timedelta, timezone\n",
    "import urllib\n",
    "import m3u8\n",
    "import streamlink\n",
    "import cv2 #openCV\n",
    "\n"
   ]
  },
  {
   "cell_type": "code",
   "execution_count": 3,
   "metadata": {},
   "outputs": [],
   "source": [
    "def get_stream(url):\n",
    "\n",
    "    \"\"\"\n",
    "    Get upload chunk url\n",
    "    input: youtube URL\n",
    "    output: m3u8 object segment\n",
    "    \"\"\"\n",
    "    #Try this line tries number of times, if it doesn't work, \n",
    "    # then show the exception on the last attempt\n",
    "    # Credit, theherk, https://stackoverflow.com/questions/2083987/how-to-retry-after-exception\n",
    "    tries = 10\n",
    "    for i in range(tries):\n",
    "        try:\n",
    "            streams = streamlink.streams(url)\n",
    "        except:\n",
    "            if i < tries - 1: # i is zero indexed\n",
    "                print(f\"Attempt {i+1} of {tries}\")\n",
    "                time.sleep(0.1) #Wait half a second, avoid overload\n",
    "                continue\n",
    "            else:\n",
    "                raise\n",
    "        break\n",
    "\n",
    "    stream_url = streams[\"best\"] #Alternate, use '360p'\n",
    "\n",
    "    m3u8_obj = m3u8.load(stream_url.args['url'])\n",
    "    return m3u8_obj.segments[0] #Parsed stream\n",
    "\n",
    "\n",
    "def dl_stream(url, filename, chunks):\n",
    "    \"\"\"\n",
    "    Download each chunk to file\n",
    "    input: url, filename, and number of chunks (int)\n",
    "    output: saves file at filename location\n",
    "    returns none.\n",
    "    \"\"\"\n",
    "    pre_time_stamp = datetime(1, 1, 1, 0, 0, tzinfo=timezone.utc)\n",
    "\n",
    "    \n",
    "    #Repeat for each chunk\n",
    "    #Needs to be in chunks because \n",
    "    #  1) it's live\n",
    "    #  2) it won't let you leave the stream open forever\n",
    "    i=1\n",
    "    while i <= chunks:\n",
    "       \n",
    "        #Open stream\n",
    "        stream_segment = get_stream(url)\n",
    "    \n",
    "        #Get current time on video\n",
    "        cur_time_stamp = stream_segment.program_date_time\n",
    "        #Only get next time step, wait if it's not new yet\n",
    "        if cur_time_stamp <= pre_time_stamp:\n",
    "            #Don't increment counter until we have a new chunk\n",
    "            print(\"NO   pre: \",pre_time_stamp, \"curr:\",cur_time_stamp)\n",
    "            time.sleep(0.5) #Wait half a sec\n",
    "            pass\n",
    "        else:\n",
    "            print(\"YES: pre: \",pre_time_stamp, \"curr:\",cur_time_stamp)\n",
    "            print(f'#{i} at time {cur_time_stamp}')\n",
    "            #Open file for writing stream\n",
    "            file = open(filename, 'ab+') #ab+ means keep adding to file\n",
    "            #Write stream to file\n",
    "            with urllib.request.urlopen(stream_segment.uri) as response:\n",
    "                html = response.read()\n",
    "                file.write(html)\n",
    "            \n",
    "            #Update time stamp\n",
    "            pre_time_stamp = cur_time_stamp\n",
    "            time.sleep(stream_segment.duration) #Wait duration time - 1\n",
    "\n",
    "            i += 1 #only increment if we got a new chunk\n",
    "\n",
    "    return None\n",
    "\n",
    "def openCVProcessing(saved_video_file):\n",
    "    '''View saved video with openCV\n",
    "    Add your other steps here'''\n",
    "    capture = cv2.VideoCapture(saved_video_file)\n",
    "\n",
    "    while capture.isOpened():\n",
    "        grabbed, frame = capture.read()  #read in single frame\n",
    "        if grabbed == False:\n",
    "            break\n",
    "\n",
    "        #openCV processing goes here\n",
    "        #\n",
    "        \n",
    "        cv2.imshow('frame',frame)  #Show the frame\n",
    "        \n",
    "        #Shown in a new window, To exit, push q on the keyboard\n",
    "        if cv2.waitKey(20) & 0xFF == ord('q'):\n",
    "            break\n",
    "\n",
    "    capture.release()\n",
    "    cv2.destroyAllWindows()  #close the windows automatically"
   ]
  },
  {
   "cell_type": "code",
   "execution_count": 5,
   "metadata": {},
   "outputs": [
    {
     "name": "stdout",
     "output_type": "stream",
     "text": [
      "YES: pre:  0001-01-01 00:00:00+00:00 curr: 2024-03-27 04:28:05.012000+00:00\n",
      "#1 at time 2024-03-27 04:28:05.012000+00:00\n",
      "YES: pre:  2024-03-27 04:28:05.012000+00:00 curr: 2024-03-27 04:28:10.017000+00:00\n",
      "#2 at time 2024-03-27 04:28:10.017000+00:00\n",
      "YES: pre:  2024-03-27 04:28:10.017000+00:00 curr: 2024-03-27 04:28:15.022000+00:00\n",
      "#3 at time 2024-03-27 04:28:15.022000+00:00\n"
     ]
    },
    {
     "ename": "",
     "evalue": "",
     "output_type": "error",
     "traceback": [
      "\u001b[1;31mThe Kernel crashed while executing code in the the current cell or a previous cell. Please review the code in the cell(s) to identify a possible cause of the failure. Click <a href='https://aka.ms/vscodeJupyterKernelCrash'>here</a> for more info. View Jupyter <a href='command:jupyter.viewOutput'>log</a> for further details."
     ]
    }
   ],
   "source": [
    "tempFile = \"temp.ts\"  #files are format ts, open cv can view them\n",
    "videoURL = \"https://www.youtube.com/watch?v=AlafuUzRUXI\"\n",
    "\n",
    "dl_stream(videoURL, tempFile, 3)\n",
    "openCVProcessing(tempFile)"
   ]
  },
  {
   "cell_type": "code",
   "execution_count": 6,
   "metadata": {},
   "outputs": [
    {
     "name": "stderr",
     "output_type": "stream",
     "text": [
      "\u001b[32m00:44:58\u001b[0m :: \u001b[1;35m   Helper    \u001b[0m :: \u001b[1;31m\u001b[2;33mWARNING \u001b[0m :: \u001b[1;37mGStreamer not found!\u001b[0m\n",
      "\u001b[32m00:44:58\u001b[0m :: \u001b[1;35m   Helper    \u001b[0m :: \u001b[1;33m DEBUG  \u001b[0m :: \u001b[1;37mSelecting `best` resolution for streams.\u001b[0m\n",
      "\u001b[32m00:44:58\u001b[0m :: \u001b[1;35m   CamGear   \u001b[0m :: \u001b[1;33m DEBUG  \u001b[0m :: \u001b[1;37mEnabling Threaded Queue Mode for the current video source!\u001b[0m\n",
      "\u001b[32m00:44:58\u001b[0m :: \u001b[1;35m   CamGear   \u001b[0m :: \u001b[1;33m DEBUG  \u001b[0m :: \u001b[1;37mSetting backend `1800` for this source.\u001b[0m\n"
     ]
    },
    {
     "ename": "RuntimeError",
     "evalue": "[CamGear:ERROR] :: Source is invalid, CamGear failed to initialize stream on this source!",
     "output_type": "error",
     "traceback": [
      "\u001b[0;31m---------------------------------------------------------------------------\u001b[0m",
      "\u001b[0;31mRuntimeError\u001b[0m                              Traceback (most recent call last)",
      "Cell \u001b[0;32mIn[6], line 5\u001b[0m\n\u001b[1;32m      2\u001b[0m \u001b[38;5;28;01mfrom\u001b[39;00m \u001b[38;5;21;01mvidgear\u001b[39;00m\u001b[38;5;21;01m.\u001b[39;00m\u001b[38;5;21;01mgears\u001b[39;00m \u001b[38;5;28;01mimport\u001b[39;00m CamGear\n\u001b[1;32m      3\u001b[0m \u001b[38;5;28;01mimport\u001b[39;00m \u001b[38;5;21;01mcv2\u001b[39;00m\n\u001b[0;32m----> 5\u001b[0m stream \u001b[38;5;241m=\u001b[39m \u001b[43mCamGear\u001b[49m\u001b[43m(\u001b[49m\u001b[43msource\u001b[49m\u001b[38;5;241;43m=\u001b[39;49m\u001b[38;5;124;43m'\u001b[39;49m\u001b[38;5;124;43mhttps://www.youtube.com/watch?v=vcLRWiTNCbQ\u001b[39;49m\u001b[38;5;124;43m'\u001b[39;49m\u001b[43m,\u001b[49m\u001b[43m \u001b[49m\u001b[43mstream_mode\u001b[49m\u001b[43m \u001b[49m\u001b[38;5;241;43m=\u001b[39;49m\u001b[43m \u001b[49m\u001b[38;5;28;43;01mTrue\u001b[39;49;00m\u001b[43m,\u001b[49m\u001b[43m \u001b[49m\u001b[43mlogging\u001b[49m\u001b[38;5;241;43m=\u001b[39;49m\u001b[38;5;28;43;01mTrue\u001b[39;49;00m\u001b[43m,\u001b[49m\u001b[43mbackend\u001b[49m\u001b[43m \u001b[49m\u001b[38;5;241;43m=\u001b[39;49m\u001b[43m \u001b[49m\u001b[43mcv2\u001b[49m\u001b[38;5;241;43m.\u001b[39;49m\u001b[43mCAP_GSTREAMER\u001b[49m\u001b[43m)\u001b[49m\u001b[38;5;241m.\u001b[39mstart() \u001b[38;5;66;03m# YouTube Video URL as input\u001b[39;00m\n\u001b[1;32m      7\u001b[0m \u001b[38;5;66;03m# infinite loop\u001b[39;00m\n\u001b[1;32m      8\u001b[0m \u001b[38;5;28;01mwhile\u001b[39;00m \u001b[38;5;28;01mTrue\u001b[39;00m:\n",
      "File \u001b[0;32m~/miniconda3/envs/env/lib/python3.11/site-packages/vidgear/gears/camgear.py:415\u001b[0m, in \u001b[0;36mCamGear.__init__\u001b[0;34m(self, source, stream_mode, backend, colorspace, logging, time_delay, **options)\u001b[0m\n\u001b[1;32m    413\u001b[0m         \u001b[38;5;28mself\u001b[39m\u001b[38;5;241m.\u001b[39m__queue\u001b[38;5;241m.\u001b[39mput(\u001b[38;5;28mself\u001b[39m\u001b[38;5;241m.\u001b[39mframe)\n\u001b[1;32m    414\u001b[0m \u001b[38;5;28;01melse\u001b[39;00m:\n\u001b[0;32m--> 415\u001b[0m     \u001b[38;5;28;01mraise\u001b[39;00m \u001b[38;5;167;01mRuntimeError\u001b[39;00m(\n\u001b[1;32m    416\u001b[0m         \u001b[38;5;124m\"\u001b[39m\u001b[38;5;124m[CamGear:ERROR] :: Source is invalid, CamGear failed to initialize stream on this source!\u001b[39m\u001b[38;5;124m\"\u001b[39m\n\u001b[1;32m    417\u001b[0m     )\n\u001b[1;32m    419\u001b[0m \u001b[38;5;66;03m# thread initialization\u001b[39;00m\n\u001b[1;32m    420\u001b[0m \u001b[38;5;28mself\u001b[39m\u001b[38;5;241m.\u001b[39m__thread \u001b[38;5;241m=\u001b[39m \u001b[38;5;28;01mNone\u001b[39;00m\n",
      "\u001b[0;31mRuntimeError\u001b[0m: [CamGear:ERROR] :: Source is invalid, CamGear failed to initialize stream on this source!"
     ]
    }
   ],
   "source": [
    "# import libraries\n",
    "from vidgear.gears import CamGear\n",
    "import cv2\n",
    "\n",
    "stream = CamGear(source='https://www.youtube.com/watch?v=vcLRWiTNCbQ', stream_mode = True, logging=True,backend = cv2.CAP_GSTREAMER).start() # YouTube Video URL as input\n",
    "\n",
    "# infinite loop\n",
    "while True:\n",
    "    \n",
    "    frame = stream.read()\n",
    "    # read frames\n",
    "\n",
    "    # check if frame is None\n",
    "    if frame is None:\n",
    "        #if True break the infinite loop\n",
    "        break\n",
    "    \n",
    "    # do something with frame here\n",
    "    \n",
    "    cv2.imshow(\"Output Frame\", frame)\n",
    "    # Show output window\n",
    "\n",
    "    key = cv2.waitKey(1) & 0xFF\n",
    "    # check for 'q' key-press\n",
    "    if key == ord(\"q\"):\n",
    "        #if 'q' key-pressed break out\n",
    "        break\n",
    "\n",
    "cv2.destroyAllWindows()\n",
    "# close output window\n",
    "\n",
    "# safely close video stream.\n",
    "stream.stop()"
   ]
  },
  {
   "cell_type": "code",
   "execution_count": null,
   "metadata": {},
   "outputs": [],
   "source": []
  }
 ],
 "metadata": {
  "kernelspec": {
   "display_name": "Python 3",
   "language": "python",
   "name": "python3"
  },
  "language_info": {
   "codemirror_mode": {
    "name": "ipython",
    "version": 3
   },
   "file_extension": ".py",
   "mimetype": "text/x-python",
   "name": "python",
   "nbconvert_exporter": "python",
   "pygments_lexer": "ipython3",
   "version": "3.11.8"
  }
 },
 "nbformat": 4,
 "nbformat_minor": 2
}
